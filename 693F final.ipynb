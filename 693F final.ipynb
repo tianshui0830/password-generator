{
 "cells": [
  {
   "cell_type": "code",
   "execution_count": 1,
   "outputs": [],
   "source": [
    "import random\n",
    "import requests\n",
    "import numpy as np"
   ],
   "metadata": {
    "collapsed": false,
    "pycharm": {
     "name": "#%%\n"
    }
   }
  },
  {
   "cell_type": "code",
   "execution_count": 44,
   "outputs": [],
   "source": [
    "ml_url = \"https://api.datamuse.com/words?ml={w}\"\n",
    "def pho_words(word, L=10):\n",
    "    r = requests.get(ml_url.format(w=word))\n",
    "    pho = [(item[\"word\"]) for item in r.json()]\n",
    "    return pho[:L]"
   ],
   "metadata": {
    "collapsed": false,
    "pycharm": {
     "name": "#%%\n"
    }
   }
  },
  {
   "cell_type": "code",
   "execution_count": 45,
   "outputs": [
    {
     "name": "stdout",
     "output_type": "stream",
     "text": [
      "['realistically', 'golly', 'okay', 'even', 'then', 'presumably', 'carmela', 'here', 'frankly', 'surely']\n",
      "['egad', 'yes', 'bye-bye', 'somewhere', 'that', 'pretty', 'awhile', 'ha-ha', 'whatcha', 'perhaps']\n",
      "['awfully', 'alot', 'can', 'thataway', 'damn', 'wish', 'anymore', 'for some reason', 'whatnot', 'well']\n",
      "['maybe', 'at any rate', 'express emotion', 'tonite', 'drumble', 'blurt out', 'in no way', 'dunno', 'cant', 'probs']\n",
      "['dude', 'sweat', 'nah', 'guess', 'nope', 'bummer', 'wot', 'cuz', 'immeability', 'hav']\n",
      "['hooray', 'anyways', 'harm', 'guess', 'kinda', 'boat', 'deception', 'boring', 'brainer', 'miss']\n",
      "['presume', 'thought', 'plausible', 'picture', 'hated', 'figure', 'daresay', 'alright', 'take', 'tell']\n"
     ]
    }
   ],
   "source": [
    "stringlist=[]\n",
    "wordl=[]\n",
    "import time\n",
    "for i in range(5):\n",
    " time.sleep(1)\n",
    " string1=input(\"please input your choice of word:\")\n",
    " str1=string1.strip()\n",
    " stringlist.append(string1)\n",
    " wordl1=pho_words(string1, 100)\n",
    " for j in range(10):\n",
    "  nv=np.random.choice(np.size(wordl1),10, replace=False)\n",
    " for j in range(10):\n",
    "  wordl.append(wordl1[nv[j]])\n",
    " print(wordl)\n",
    " wordl=[]\n",
    "\n",
    " time.sleep(1)\n",
    " yn=input(\"Do you want to retry? y/n\")\n",
    " while yn!='n':\n",
    "   for j in range(10):\n",
    "    nv=np.random.choice(np.size(wordl1),10, replace=False)\n",
    "   wordl=[]\n",
    "   for j in range(10):\n",
    "     wordl.append(wordl1[nv[j]])\n",
    "   print(wordl)\n",
    "   wordl=[]\n",
    "   time.sleep(1)\n",
    "   yn=input(\"Do you want to retry? y/n\")"
   ],
   "metadata": {
    "collapsed": false,
    "pycharm": {
     "name": "#%%\n"
    }
   }
  },
  {
   "cell_type": "code",
   "execution_count": 117,
   "outputs": [
    {
     "name": "stdout",
     "output_type": "stream",
     "text": [
      "['maybe', 'alot', 'probs', 'bummer', 'guess']\n",
      "[['may', 'be'], ['alot'], ['prob', 's'], ['bum', 'mer'], ['gue', 'ss']]\n"
     ]
    }
   ],
   "source": [
    "vowels = 'AEIOU'\n",
    "consts = 'BCDFGHJKLMNPQRSTVWXYZ'\n",
    "consts = consts + consts.lower()\n",
    "vowels = vowels + vowels.lower()\n",
    "\n",
    "def is_vowel(letter):\n",
    "    return letter in vowels\n",
    "def is_const(letter):\n",
    "    return letter in consts\n",
    "\n",
    "# get the syllables for vc/cv\n",
    "def syll(word):\n",
    " split_points=[]\n",
    "\n",
    " segment_length = 4\n",
    "\n",
    "#define the most commonly seen patterns\n",
    " pattern1 = [is_vowel, is_const,is_vowel,is_const]\n",
    " pattern2 = [is_vowel, is_const,is_vowel,is_vowel]\n",
    " pattern3 = [is_const, is_vowel,is_vowel,is_const]\n",
    " pattern4 = [is_const, is_vowel,is_const,is_vowel]\n",
    " pattern5 = [is_const, is_vowel,is_const,is_const]\n",
    " pattern6 = [is_const, is_const,is_vowel,is_vowel]\n",
    " pattern7 = [is_const, is_const,is_vowel,is_const]\n",
    " pattern8 = [is_vowel, is_const,is_const,is_vowel]\n",
    " pattern9 = [is_const, is_const,is_const,is_const]\n",
    " pattern10 = [is_const, is_const,is_const,is_vowel]\n",
    " pattern11 = [is_vowel, is_vowel,is_const,is_const]\n",
    " i=0\n",
    " k=0\n",
    "# because most of the patterns needs four letters to check\n",
    " while i+k<=(len(word)-segment_length-1)and len(word)>4:\n",
    "        segment = word[i+k:i+k+segment_length]\n",
    "        if all([fi(letter) for letter, fi in zip(segment, pattern1)]):\n",
    "            split_points.append(i+k+1)\n",
    "            k=0\n",
    "        elif all([fi(letter) for letter, fi in zip(segment, pattern2)]):\n",
    "            split_points.append(i+k+1)\n",
    "            k=0\n",
    "        elif all([fi(letter) for letter, fi in zip(segment, pattern4)]):\n",
    "            split_points.append(i+k+2)\n",
    "            k=1\n",
    "        elif all([fi(letter) for letter, fi in zip(segment, pattern5)]):\n",
    "            split_points.append(i+k+3)\n",
    "            k=0\n",
    "        elif all([fi(letter) for letter, fi in zip(segment, pattern6)]):\n",
    "            split_points.append(i+k+3)\n",
    "            k=0\n",
    "        elif all([fi(letter) for letter, fi in zip(segment, pattern7)]) and len(word)>5:\n",
    "            split_points.append(i+k+3)\n",
    "            k=0\n",
    "        elif all([fi(letter) for letter, fi in zip(segment, pattern7)]) and len(word)<=5:\n",
    "            split_points.append(i+k+4)\n",
    "            k=-1\n",
    "        elif all([fi(letter) for letter, fi in zip(segment, pattern8)]):\n",
    "            split_points.append(i+k+2)\n",
    "            k=1\n",
    "        elif all([fi(letter) for letter, fi in zip(segment, pattern9)]):\n",
    "            split_points.append(i+k+3)\n",
    "            k=0\n",
    "        elif (segment=='tion')or(segment=='sion'):\n",
    "            split_points.append(i+k+4)\n",
    "            k=-1\n",
    "        elif all([fi(letter) for letter, fi in zip(segment, pattern3)]):\n",
    "            split_points.append(i+k+3)\n",
    "            k=0\n",
    "        elif all([fi(letter) for letter, fi in zip(segment, pattern10)]):\n",
    "            split_points.append(i+k+2)\n",
    "            k=1\n",
    "        elif all([fi(letter) for letter, fi in zip(segment, pattern11)]):\n",
    "            split_points.append(i+k+2)\n",
    "            k=1\n",
    "        i+=1\n",
    "\n",
    "# use the index to find the syllables - add 0 and len(word) to make it work\n",
    " split_points.insert(0, 0)\n",
    " split_points.append(len(word))\n",
    " syllables = []\n",
    " syllable=[]\n",
    " for i in range(len(split_points) - 1):\n",
    "        st = int(split_points[i])\n",
    "        en = int(split_points[i+1])\n",
    "        syllables.append(word[st:en])\n",
    " syllable = list(set(syllables))\n",
    " syllable.sort(key=syllables.index)\n",
    " syll  = [i for i in syllable if i!='']\n",
    " return syll\n",
    "\n",
    "#find syllable and combine to a new string\n",
    "str_spl=[]\n",
    "for m in range(5):\n",
    "    str_spl.append(syll(stringlist[m]))\n",
    "print(stringlist)\n",
    "print(str_spl)"
   ],
   "metadata": {
    "collapsed": false,
    "pycharm": {
     "name": "#%%\n"
    }
   }
  },
  {
   "cell_type": "code",
   "execution_count": 118,
   "outputs": [
    {
     "name": "stdout",
     "output_type": "stream",
     "text": [
      "['Bum', 'mer', 'Prob', 'alot', '=', '2']\n",
      "2Bummer=alotProb\n"
     ]
    }
   ],
   "source": [
    "#randomly pick syllable\n",
    "lis=[]\n",
    "numm=[]\n",
    "num=np.random.choice(5,2,replace=False)\n",
    "num1=np.random.choice(5,2,replace=False)\n",
    "for i in range(2):\n",
    " nu=np.random.randint(0,np.size(str_spl[num[i]]),1)\n",
    "\n",
    " #if only one word, pick the last one of another word\n",
    " if len(str_spl[num[i]])==1:\n",
    "       lis.append(str_spl[num[i]][0])\n",
    "       lis.append(str_spl[num[i]][-1])\n",
    "\n",
    " elif nu==0:\n",
    "       lis.append(str_spl[num[i]][0])\n",
    "       lis.append(str_spl[num1[i]][-1])\n",
    "\n",
    " #if to the end, pick the last two\n",
    " elif nu+1>=np.size(str_spl[num[i]]):\n",
    "      lis.append(str_spl[num[i]][nu[0]-1])\n",
    "      lis.append(str_spl[num[i]][nu[0]])\n",
    "\n",
    "#randomly pick two as uppercase\n",
    "num=np.random.choice(len(lis),2,replace=False)\n",
    "lisst=[]\n",
    "for i in range(len(lis)):\n",
    "  if i in num:\n",
    "    lisst.append(lis[i].title())\n",
    "  else:\n",
    "    lisst.append(lis[i])\n",
    "\n",
    "#add symbol\n",
    "sym=[',','.','/','&','@','*','-','=','-','%']\n",
    "numb=input('please type in your favourite number (0-9) :')\n",
    "sy=np.random.choice(len(sym),1)\n",
    "lisst.append(sym[sy[0]])\n",
    "lisst.append(numb)\n",
    "\n",
    "\n",
    "print(lisst)\n",
    "\n",
    "#shuffle and print out\n",
    "random.shuffle(lisst)\n",
    "liss=''.join(lisst)\n",
    "\n",
    "print(liss)"
   ],
   "metadata": {
    "collapsed": false,
    "pycharm": {
     "name": "#%%\n"
    }
   }
  },
  {
   "cell_type": "markdown",
   "source": [
    "Score"
   ],
   "metadata": {
    "collapsed": false,
    "pycharm": {
     "name": "#%% md\n"
    }
   }
  },
  {
   "cell_type": "code",
   "execution_count": 114,
   "outputs": [
    {
     "data": {
      "text/plain": "'super strong'"
     },
     "execution_count": 114,
     "metadata": {},
     "output_type": "execute_result"
    }
   ],
   "source": [
    "def check_number_exist(password):\n",
    " has_number = False\n",
    " for c in password:\n",
    "  if c.isdigit():\n",
    "   has_number = True\n",
    " return has_number\n",
    "\n",
    "def check_letter_exist(password):\n",
    " has_upper_letter = False\n",
    " has_lower_letter = False\n",
    " for c in password:\n",
    "  if c.isupper():\n",
    "    has_upper_letter = True\n",
    "  elif c.islower():\n",
    "    has_lower_letter = True\n",
    " has_both_letter = has_upper_letter and has_lower_letter\n",
    " return has_both_letter\n",
    "\n",
    "def check_specialchar_exist(password):\n",
    " has_specialchar = False\n",
    " specialchar_list = ['+', '-', '*', '/', '_', '&', '%', ',','.']\n",
    " for c in password:\n",
    "  if c in specialchar_list:\n",
    "    has_specialchar = True\n",
    "    break\n",
    " return has_specialchar\n",
    "\n",
    "def check_common_exist(password):\n",
    " has_common = True\n",
    " common_list = ['12345', '123456', 'qwer', 'qwerty', '1234567', '12345678', '123456789', '1234567890','111111','password','123','123123''abc123']\n",
    " for c in password:\n",
    "  if c in common_list:\n",
    "    has_common = False\n",
    "    break\n",
    " return has_common\n",
    "\n",
    "def process_password(password):\n",
    " score=0\n",
    "# rule1：at least 12 bits\n",
    " if len(password)  >= 12:\n",
    "  score += 1\n",
    "# rule2：include number\n",
    " if check_number_exist(password):\n",
    "  score += 1\n",
    "# rule3：include both upper and lower case\n",
    " if check_letter_exist(password):\n",
    "  score += 1\n",
    "# rule4：include symbols\n",
    " if check_specialchar_exist(password):\n",
    "  score += 1\n",
    " # rule4：include symbols\n",
    " if check_common_exist(password):\n",
    "  score += 1\n",
    " else:\n",
    "  print(\"Do not use the commonly used\")\n",
    "\n",
    " return score\n",
    "\n",
    "\n",
    "strength = ['super weak', 'weak', 'median', 'strong', 'very strong','super strong']\n",
    "strength[process_password(liss)]"
   ],
   "metadata": {
    "collapsed": false,
    "pycharm": {
     "name": "#%%\n"
    }
   }
  }
 ],
 "metadata": {
  "kernelspec": {
   "display_name": "Python 3",
   "language": "python",
   "name": "python3"
  },
  "language_info": {
   "codemirror_mode": {
    "name": "ipython",
    "version": 2
   },
   "file_extension": ".py",
   "mimetype": "text/x-python",
   "name": "python",
   "nbconvert_exporter": "python",
   "pygments_lexer": "ipython2",
   "version": "2.7.6"
  }
 },
 "nbformat": 4,
 "nbformat_minor": 0
}